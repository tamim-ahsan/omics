{
 "cells": [
  {
   "cell_type": "markdown",
   "id": "b82edc3d-2b4f-4366-a081-8911656576fe",
   "metadata": {},
   "source": [
    "- **Purpose:** To follow the tutorial on multiomics pathway enrichment analysis using ActivePathways package in R\n",
    "- **Date:** August 26, 2025"
   ]
  },
  {
   "cell_type": "markdown",
   "id": "d12cde71-d17b-4bca-b6b8-776aa11c9781",
   "metadata": {},
   "source": [
    "# Step 1\n",
    "Load libraries and data"
   ]
  },
  {
   "cell_type": "code",
   "execution_count": 1,
   "id": "02a8110f-65f0-42c8-80d5-e95a5489e85e",
   "metadata": {},
   "outputs": [
    {
     "name": "stderr",
     "output_type": "stream",
     "text": [
      "── \u001b[1mAttaching core tidyverse packages\u001b[22m ───────────────────────────────────────────────────────────────────────────── tidyverse 2.0.0 ──\n",
      "\u001b[32m✔\u001b[39m \u001b[34mdplyr    \u001b[39m 1.1.4     \u001b[32m✔\u001b[39m \u001b[34mreadr    \u001b[39m 2.1.5\n",
      "\u001b[32m✔\u001b[39m \u001b[34mforcats  \u001b[39m 1.0.0     \u001b[32m✔\u001b[39m \u001b[34mstringr  \u001b[39m 1.5.1\n",
      "\u001b[32m✔\u001b[39m \u001b[34mggplot2  \u001b[39m 3.5.2     \u001b[32m✔\u001b[39m \u001b[34mtibble   \u001b[39m 3.3.0\n",
      "\u001b[32m✔\u001b[39m \u001b[34mlubridate\u001b[39m 1.9.4     \u001b[32m✔\u001b[39m \u001b[34mtidyr    \u001b[39m 1.3.1\n",
      "\u001b[32m✔\u001b[39m \u001b[34mpurrr    \u001b[39m 1.1.0     \n",
      "── \u001b[1mConflicts\u001b[22m ─────────────────────────────────────────────────────────────────────────────────────────────── tidyverse_conflicts() ──\n",
      "\u001b[31m✖\u001b[39m \u001b[34mdplyr\u001b[39m::\u001b[32mfilter()\u001b[39m masks \u001b[34mstats\u001b[39m::filter()\n",
      "\u001b[31m✖\u001b[39m \u001b[34mdplyr\u001b[39m::\u001b[32mlag()\u001b[39m    masks \u001b[34mstats\u001b[39m::lag()\n",
      "\u001b[36mℹ\u001b[39m Use the conflicted package (\u001b[3m\u001b[34m<http://conflicted.r-lib.org/>\u001b[39m\u001b[23m) to force all conflicts to become errors\n"
     ]
    }
   ],
   "source": [
    "# Load libraries\n",
    "library(ActivePathways)\n",
    "library(tidyverse)"
   ]
  },
  {
   "cell_type": "code",
   "execution_count": 8,
   "id": "a03d47dd-7a2f-461b-a392-730915646736",
   "metadata": {},
   "outputs": [
    {
     "data": {
      "text/html": [
       "<table class=\"dataframe\">\n",
       "<caption>A data.frame: 6 × 5</caption>\n",
       "<thead>\n",
       "\t<tr><th></th><th scope=col>gene</th><th scope=col>rna_pval</th><th scope=col>rna_log2fc</th><th scope=col>protein_pval</th><th scope=col>protein_log2fc</th></tr>\n",
       "\t<tr><th></th><th scope=col>&lt;chr&gt;</th><th scope=col>&lt;dbl&gt;</th><th scope=col>&lt;dbl&gt;</th><th scope=col>&lt;dbl&gt;</th><th scope=col>&lt;dbl&gt;</th></tr>\n",
       "</thead>\n",
       "<tbody>\n",
       "\t<tr><th scope=row>1</th><td>TMEM56</td><td>0.0001048231</td><td>-1.460403</td><td>       NA</td><td>        NA</td></tr>\n",
       "\t<tr><th scope=row>2</th><td>FRK   </td><td>0.0001222753</td><td> 1.484853</td><td>0.1476024</td><td>-0.5115909</td></tr>\n",
       "\t<tr><th scope=row>3</th><td>NCDN  </td><td>0.0001386228</td><td> 1.414452</td><td>0.6838438</td><td> 0.1177520</td></tr>\n",
       "\t<tr><th scope=row>4</th><td>POLR1C</td><td>0.0001657955</td><td>-1.431551</td><td>0.6577783</td><td>-0.1231313</td></tr>\n",
       "\t<tr><th scope=row>5</th><td>HIF1AN</td><td>0.0001762952</td><td> 1.375589</td><td>0.4311478</td><td> 0.2250092</td></tr>\n",
       "\t<tr><th scope=row>6</th><td>PGAP3 </td><td>0.0001791276</td><td> 1.442969</td><td>       NA</td><td>        NA</td></tr>\n",
       "</tbody>\n",
       "</table>\n"
      ],
      "text/latex": [
       "A data.frame: 6 × 5\n",
       "\\begin{tabular}{r|lllll}\n",
       "  & gene & rna\\_pval & rna\\_log2fc & protein\\_pval & protein\\_log2fc\\\\\n",
       "  & <chr> & <dbl> & <dbl> & <dbl> & <dbl>\\\\\n",
       "\\hline\n",
       "\t1 & TMEM56 & 0.0001048231 & -1.460403 &        NA &         NA\\\\\n",
       "\t2 & FRK    & 0.0001222753 &  1.484853 & 0.1476024 & -0.5115909\\\\\n",
       "\t3 & NCDN   & 0.0001386228 &  1.414452 & 0.6838438 &  0.1177520\\\\\n",
       "\t4 & POLR1C & 0.0001657955 & -1.431551 & 0.6577783 & -0.1231313\\\\\n",
       "\t5 & HIF1AN & 0.0001762952 &  1.375589 & 0.4311478 &  0.2250092\\\\\n",
       "\t6 & PGAP3  & 0.0001791276 &  1.442969 &        NA &         NA\\\\\n",
       "\\end{tabular}\n"
      ],
      "text/markdown": [
       "\n",
       "A data.frame: 6 × 5\n",
       "\n",
       "| <!--/--> | gene &lt;chr&gt; | rna_pval &lt;dbl&gt; | rna_log2fc &lt;dbl&gt; | protein_pval &lt;dbl&gt; | protein_log2fc &lt;dbl&gt; |\n",
       "|---|---|---|---|---|---|\n",
       "| 1 | TMEM56 | 0.0001048231 | -1.460403 |        NA |         NA |\n",
       "| 2 | FRK    | 0.0001222753 |  1.484853 | 0.1476024 | -0.5115909 |\n",
       "| 3 | NCDN   | 0.0001386228 |  1.414452 | 0.6838438 |  0.1177520 |\n",
       "| 4 | POLR1C | 0.0001657955 | -1.431551 | 0.6577783 | -0.1231313 |\n",
       "| 5 | HIF1AN | 0.0001762952 |  1.375589 | 0.4311478 |  0.2250092 |\n",
       "| 6 | PGAP3  | 0.0001791276 |  1.442969 |        NA |         NA |\n",
       "\n"
      ],
      "text/plain": [
       "  gene   rna_pval     rna_log2fc protein_pval protein_log2fc\n",
       "1 TMEM56 0.0001048231 -1.460403         NA            NA    \n",
       "2 FRK    0.0001222753  1.484853  0.1476024    -0.5115909    \n",
       "3 NCDN   0.0001386228  1.414452  0.6838438     0.1177520    \n",
       "4 POLR1C 0.0001657955 -1.431551  0.6577783    -0.1231313    \n",
       "5 HIF1AN 0.0001762952  1.375589  0.4311478     0.2250092    \n",
       "6 PGAP3  0.0001791276  1.442969         NA            NA    "
      ]
     },
     "metadata": {},
     "output_type": "display_data"
    }
   ],
   "source": [
    "# Load data\n",
    "data_mat <- system.file(\n",
    "    \"extdata\",\n",
    "    \"Differential_expression_rna_protein.tsv\",\n",
    "    package = \"ActivePathways\"\n",
    ")\n",
    "\n",
    "pval_fc <- read.table(data_mat, header = TRUE, sep = \"\\t\")\n",
    "\n",
    "head(pval_fc)"
   ]
  },
  {
   "cell_type": "markdown",
   "id": "ce2e2eb7-e2bf-44d8-a4a1-131cd30f916b",
   "metadata": {},
   "source": [
    "# Step 2\n",
    "Prepare the following inputs for the enrichment analysis - \n",
    "1. p value matrix\n",
    "2. direction matrix\n",
    "3. constraint vector\n",
    "4. gene sets"
   ]
  },
  {
   "cell_type": "code",
   "execution_count": 10,
   "id": "d562dc1b-fac5-4b83-b8b3-8f2cfb6751c1",
   "metadata": {},
   "outputs": [
    {
     "data": {
      "text/html": [
       "<table class=\"dataframe\">\n",
       "<caption>A matrix: 6 × 2 of type dbl</caption>\n",
       "<thead>\n",
       "\t<tr><th></th><th scope=col>rna</th><th scope=col>protein</th></tr>\n",
       "</thead>\n",
       "<tbody>\n",
       "\t<tr><th scope=row>TMEM56</th><td>0.0001048231</td><td>1.0000000</td></tr>\n",
       "\t<tr><th scope=row>FRK</th><td>0.0001222753</td><td>0.1476024</td></tr>\n",
       "\t<tr><th scope=row>NCDN</th><td>0.0001386228</td><td>0.6838438</td></tr>\n",
       "\t<tr><th scope=row>POLR1C</th><td>0.0001657955</td><td>0.6577783</td></tr>\n",
       "\t<tr><th scope=row>HIF1AN</th><td>0.0001762952</td><td>0.4311478</td></tr>\n",
       "\t<tr><th scope=row>PGAP3</th><td>0.0001791276</td><td>1.0000000</td></tr>\n",
       "</tbody>\n",
       "</table>\n"
      ],
      "text/latex": [
       "A matrix: 6 × 2 of type dbl\n",
       "\\begin{tabular}{r|ll}\n",
       "  & rna & protein\\\\\n",
       "\\hline\n",
       "\tTMEM56 & 0.0001048231 & 1.0000000\\\\\n",
       "\tFRK & 0.0001222753 & 0.1476024\\\\\n",
       "\tNCDN & 0.0001386228 & 0.6838438\\\\\n",
       "\tPOLR1C & 0.0001657955 & 0.6577783\\\\\n",
       "\tHIF1AN & 0.0001762952 & 0.4311478\\\\\n",
       "\tPGAP3 & 0.0001791276 & 1.0000000\\\\\n",
       "\\end{tabular}\n"
      ],
      "text/markdown": [
       "\n",
       "A matrix: 6 × 2 of type dbl\n",
       "\n",
       "| <!--/--> | rna | protein |\n",
       "|---|---|---|\n",
       "| TMEM56 | 0.0001048231 | 1.0000000 |\n",
       "| FRK | 0.0001222753 | 0.1476024 |\n",
       "| NCDN | 0.0001386228 | 0.6838438 |\n",
       "| POLR1C | 0.0001657955 | 0.6577783 |\n",
       "| HIF1AN | 0.0001762952 | 0.4311478 |\n",
       "| PGAP3 | 0.0001791276 | 1.0000000 |\n",
       "\n"
      ],
      "text/plain": [
       "       rna          protein  \n",
       "TMEM56 0.0001048231 1.0000000\n",
       "FRK    0.0001222753 0.1476024\n",
       "NCDN   0.0001386228 0.6838438\n",
       "POLR1C 0.0001657955 0.6577783\n",
       "HIF1AN 0.0001762952 0.4311478\n",
       "PGAP3  0.0001791276 1.0000000"
      ]
     },
     "metadata": {},
     "output_type": "display_data"
    }
   ],
   "source": [
    "# P value matrix \n",
    "pval_mat <- data.frame(\n",
    "    row.names = pval_fc$gene,\n",
    "    rna = pval_fc$rna_pval,\n",
    "    protein = pval_fc$protein_pval\n",
    ")\n",
    "\n",
    "# Conver the dataframe to matrix \n",
    "pval_mat <- as.matrix(pval_mat)\n",
    "\n",
    "# fill na values with P = 1\n",
    "pval_mat[is.na(pval_mat)] <- 1\n",
    "\n",
    "# Show the top genes\n",
    "head(pval_mat)"
   ]
  },
  {
   "cell_type": "code",
   "execution_count": 17,
   "id": "511b3711-d2bd-43ec-a0f5-49e45ef9cf54",
   "metadata": {},
   "outputs": [
    {
     "data": {
      "text/html": [
       "<table class=\"dataframe\">\n",
       "<caption>A matrix: 6 × 2 of type dbl</caption>\n",
       "<thead>\n",
       "\t<tr><th></th><th scope=col>rna</th><th scope=col>protein</th></tr>\n",
       "</thead>\n",
       "<tbody>\n",
       "\t<tr><th scope=row>TMEM56</th><td>-1</td><td> 0</td></tr>\n",
       "\t<tr><th scope=row>FRK</th><td> 1</td><td>-1</td></tr>\n",
       "\t<tr><th scope=row>NCDN</th><td> 1</td><td> 1</td></tr>\n",
       "\t<tr><th scope=row>POLR1C</th><td>-1</td><td>-1</td></tr>\n",
       "\t<tr><th scope=row>HIF1AN</th><td> 1</td><td> 1</td></tr>\n",
       "\t<tr><th scope=row>PGAP3</th><td> 1</td><td> 0</td></tr>\n",
       "</tbody>\n",
       "</table>\n"
      ],
      "text/latex": [
       "A matrix: 6 × 2 of type dbl\n",
       "\\begin{tabular}{r|ll}\n",
       "  & rna & protein\\\\\n",
       "\\hline\n",
       "\tTMEM56 & -1 &  0\\\\\n",
       "\tFRK &  1 & -1\\\\\n",
       "\tNCDN &  1 &  1\\\\\n",
       "\tPOLR1C & -1 & -1\\\\\n",
       "\tHIF1AN &  1 &  1\\\\\n",
       "\tPGAP3 &  1 &  0\\\\\n",
       "\\end{tabular}\n"
      ],
      "text/markdown": [
       "\n",
       "A matrix: 6 × 2 of type dbl\n",
       "\n",
       "| <!--/--> | rna | protein |\n",
       "|---|---|---|\n",
       "| TMEM56 | -1 |  0 |\n",
       "| FRK |  1 | -1 |\n",
       "| NCDN |  1 |  1 |\n",
       "| POLR1C | -1 | -1 |\n",
       "| HIF1AN |  1 |  1 |\n",
       "| PGAP3 |  1 |  0 |\n",
       "\n"
      ],
      "text/plain": [
       "       rna protein\n",
       "TMEM56 -1   0     \n",
       "FRK     1  -1     \n",
       "NCDN    1   1     \n",
       "POLR1C -1  -1     \n",
       "HIF1AN  1   1     \n",
       "PGAP3   1   0     "
      ]
     },
     "metadata": {},
     "output_type": "display_data"
    }
   ],
   "source": [
    "# Direction matrix \n",
    "dir_mat <- data.frame(\n",
    "    row.names = pval_fc$gene,\n",
    "    rna = pval_fc$rna_log2fc,\n",
    "    protein = pval_fc$protein_log2fc\n",
    ")\n",
    "\n",
    "# take the sign\n",
    "dir_mat <- sign(dir_mat)\n",
    "\n",
    "# Fill NA values\n",
    "dir_mat[is.na(dir_mat)] <- 0\n",
    "\n",
    "# Make it a matrix\n",
    "dir_mat <- as.matrix(dir_mat)\n",
    "\n",
    "# Look at the head genes\n",
    "head(dir_mat)"
   ]
  },
  {
   "cell_type": "code",
   "execution_count": 13,
   "id": "6c086f4d-347e-484d-a828-8a33b4498055",
   "metadata": {},
   "outputs": [],
   "source": [
    "# Constraint vector\n",
    "cons_vec <- c(1,1)"
   ]
  },
  {
   "cell_type": "code",
   "execution_count": 14,
   "id": "6381a552-cb35-4a98-b562-a7fa3b4afb7a",
   "metadata": {},
   "outputs": [
    {
     "data": {
      "text/html": [
       "'/nexus/posix0/MPI-psych/g/dept-binder/mpsmgp/ahsant/software/miniforge3/envs/jupyter/lib/R/library/ActivePathways/extdata/hsapiens_REAC_subset2.gmt'"
      ],
      "text/latex": [
       "'/nexus/posix0/MPI-psych/g/dept-binder/mpsmgp/ahsant/software/miniforge3/envs/jupyter/lib/R/library/ActivePathways/extdata/hsapiens\\_REAC\\_subset2.gmt'"
      ],
      "text/markdown": [
       "'/nexus/posix0/MPI-psych/g/dept-binder/mpsmgp/ahsant/software/miniforge3/envs/jupyter/lib/R/library/ActivePathways/extdata/hsapiens_REAC_subset2.gmt'"
      ],
      "text/plain": [
       "[1] \"/nexus/posix0/MPI-psych/g/dept-binder/mpsmgp/ahsant/software/miniforge3/envs/jupyter/lib/R/library/ActivePathways/extdata/hsapiens_REAC_subset2.gmt\""
      ]
     },
     "metadata": {},
     "output_type": "display_data"
    }
   ],
   "source": [
    "# GMT file\n",
    "gmt_file <- system.file(\n",
    "    \"extdata\",\n",
    "    \"hsapiens_REAC_subset2.gmt\",\n",
    "    package = \"ActivePathways\"\n",
    ")\n",
    "\n",
    "gmt_file"
   ]
  },
  {
   "cell_type": "markdown",
   "id": "41239fa2-7558-40b8-a35c-ddd42b330e31",
   "metadata": {},
   "source": [
    "# Step 3 \n",
    "Run the enrichment anlaysis"
   ]
  },
  {
   "cell_type": "code",
   "execution_count": 19,
   "id": "3b0be83d-2eae-482c-94cf-4296059ec0c5",
   "metadata": {},
   "outputs": [
    {
     "data": {
      "text/html": [
       "<style>\n",
       ".dl-inline {width: auto; margin:0; padding: 0}\n",
       ".dl-inline>dt, .dl-inline>dd {float: none; width: auto; display: inline-block}\n",
       ".dl-inline>dt::after {content: \":\\0020\"; padding-right: .5ex}\n",
       ".dl-inline>dt:not(:first-of-type) {padding-left: .5ex}\n",
       "</style><dl class=dl-inline><dt>ACTN4</dt><dd>1.16870802999685e-09</dd><dt>PPIL1</dt><dd>2.55606747791601e-06</dd><dt>NELFE</dt><dd>3.80464629912988e-06</dd><dt>LUZP1</dt><dd>1.95060663792143e-05</dd><dt>ITGB2</dt><dd>7.92015668696632e-05</dd></dl>\n"
      ],
      "text/latex": [
       "\\begin{description*}\n",
       "\\item[ACTN4] 1.16870802999685e-09\n",
       "\\item[PPIL1] 2.55606747791601e-06\n",
       "\\item[NELFE] 3.80464629912988e-06\n",
       "\\item[LUZP1] 1.95060663792143e-05\n",
       "\\item[ITGB2] 7.92015668696632e-05\n",
       "\\end{description*}\n"
      ],
      "text/markdown": [
       "ACTN4\n",
       ":   1.16870802999685e-09PPIL1\n",
       ":   2.55606747791601e-06NELFE\n",
       ":   3.80464629912988e-06LUZP1\n",
       ":   1.95060663792143e-05ITGB2\n",
       ":   7.92015668696632e-05\n",
       "\n"
      ],
      "text/plain": [
       "       ACTN4        PPIL1        NELFE        LUZP1        ITGB2 \n",
       "1.168708e-09 2.556067e-06 3.804646e-06 1.950607e-05 7.920157e-05 "
      ]
     },
     "metadata": {},
     "output_type": "display_data"
    }
   ],
   "source": [
    "# Merge p values (directional merging)\n",
    "dm_pval <- merge_p_values(\n",
    "    pval_mat,\n",
    "    method = \"DPM\", # for directional merging\n",
    "    dir_mat,\n",
    "    cons_vec\n",
    ")\n",
    "sort(dm_pval)[1:5] # see the top genes"
   ]
  },
  {
   "cell_type": "code",
   "execution_count": 20,
   "id": "f9848be3-66d1-4707-9b54-cff609c5265f",
   "metadata": {},
   "outputs": [
    {
     "name": "stderr",
     "output_type": "stream",
     "text": [
      "1842 rows were removed from scores because they are not found in the background\n",
      "\n"
     ]
    }
   ],
   "source": [
    "# Enriched pathways \n",
    "enriched_pws <- ActivePathways(\n",
    "    pval_mat,\n",
    "    gmt = gmt_file,\n",
    "    merge_method = \"DPM\",\n",
    "    scores_direction = dir_mat,\n",
    "    constraints_vector = cons_vec\n",
    ")"
   ]
  },
  {
   "cell_type": "code",
   "execution_count": 22,
   "id": "67ff8493-860f-45a1-9d2d-f975ff63de2e",
   "metadata": {},
   "outputs": [
    {
     "data": {
      "text/html": [
       "<style>\n",
       ".list-inline {list-style: none; margin:0; padding: 0}\n",
       ".list-inline>li {display: inline-block}\n",
       ".list-inline>li:not(:last-child)::after {content: \"\\00b7\"; padding: 0 .5ex}\n",
       "</style>\n",
       "<ol class=list-inline><li>'term_id'</li><li>'term_name'</li><li>'adjusted_p_val'</li><li>'term_size'</li><li>'overlap'</li><li>'evidence'</li><li>'Genes_rna'</li><li>'Genes_protein'</li></ol>\n"
      ],
      "text/latex": [
       "\\begin{enumerate*}\n",
       "\\item 'term\\_id'\n",
       "\\item 'term\\_name'\n",
       "\\item 'adjusted\\_p\\_val'\n",
       "\\item 'term\\_size'\n",
       "\\item 'overlap'\n",
       "\\item 'evidence'\n",
       "\\item 'Genes\\_rna'\n",
       "\\item 'Genes\\_protein'\n",
       "\\end{enumerate*}\n"
      ],
      "text/markdown": [
       "1. 'term_id'\n",
       "2. 'term_name'\n",
       "3. 'adjusted_p_val'\n",
       "4. 'term_size'\n",
       "5. 'overlap'\n",
       "6. 'evidence'\n",
       "7. 'Genes_rna'\n",
       "8. 'Genes_protein'\n",
       "\n",
       "\n"
      ],
      "text/plain": [
       "[1] \"term_id\"        \"term_name\"      \"adjusted_p_val\" \"term_size\"     \n",
       "[5] \"overlap\"        \"evidence\"       \"Genes_rna\"      \"Genes_protein\" "
      ]
     },
     "metadata": {},
     "output_type": "display_data"
    }
   ],
   "source": [
    "# Look at the result columns\n",
    "colnames(enriched_pws)"
   ]
  },
  {
   "cell_type": "code",
   "execution_count": 24,
   "id": "e8c4c95e-2544-44b0-93ec-5e06260b7a15",
   "metadata": {},
   "outputs": [
    {
     "data": {
      "text/html": [
       "<table class=\"dataframe\">\n",
       "<caption>A data.table: 39 × 3</caption>\n",
       "<thead>\n",
       "\t<tr><th scope=col>term_name</th><th scope=col>term_size</th><th scope=col>adjusted_p_val</th></tr>\n",
       "\t<tr><th scope=col>&lt;chr&gt;</th><th scope=col>&lt;int&gt;</th><th scope=col>&lt;dbl&gt;</th></tr>\n",
       "</thead>\n",
       "<tbody>\n",
       "\t<tr><td>Neutrophil degranulation                                                        </td><td>476</td><td>3.478296e-07</td></tr>\n",
       "\t<tr><td>Signaling by Interleukins                                                       </td><td>460</td><td>2.860247e-03</td></tr>\n",
       "\t<tr><td>RHO GTPase cycle                                                                </td><td>449</td><td>1.072582e-02</td></tr>\n",
       "\t<tr><td>Diseases of signal transduction by growth factor receptors and second messengers</td><td>417</td><td>2.152734e-05</td></tr>\n",
       "\t<tr><td>MAPK family signaling cascades                                                  </td><td>308</td><td>2.208930e-04</td></tr>\n",
       "\t<tr><td>Translation                                                                     </td><td>292</td><td>3.629831e-04</td></tr>\n",
       "\t<tr><td>Intracellular signaling by second messengers                                    </td><td>292</td><td>1.399071e-04</td></tr>\n",
       "\t<tr><td>Cell Cycle Checkpoints                                                          </td><td>289</td><td>1.423710e-02</td></tr>\n",
       "\t<tr><td>MAPK1/MAPK3 signaling                                                           </td><td>269</td><td>1.714901e-04</td></tr>\n",
       "\t<tr><td>RAF/MAP kinase cascade                                                          </td><td>264</td><td>1.020225e-04</td></tr>\n",
       "\t<tr><td>Platelet activation, signaling and aggregation                                  </td><td>258</td><td>2.723783e-05</td></tr>\n",
       "\t<tr><td>PIP3 activates AKT signaling                                                    </td><td>252</td><td>5.227354e-04</td></tr>\n",
       "\t<tr><td>Processing of Capped Intron-Containing Pre-mRNA                                 </td><td>237</td><td>4.769296e-02</td></tr>\n",
       "\t<tr><td>HIV Infection                                                                   </td><td>224</td><td>1.608223e-03</td></tr>\n",
       "\t<tr><td>Signaling by ROBO receptors                                                     </td><td>217</td><td>3.614487e-05</td></tr>\n",
       "\t<tr><td>Programmed Cell Death                                                           </td><td>205</td><td>2.177689e-02</td></tr>\n",
       "\t<tr><td>Mitotic G2-G2/M phases                                                          </td><td>198</td><td>3.774159e-02</td></tr>\n",
       "\t<tr><td>G2/M Transition                                                                 </td><td>196</td><td>3.237419e-02</td></tr>\n",
       "\t<tr><td>Cellular response to chemical stress                                            </td><td>191</td><td>5.913011e-05</td></tr>\n",
       "\t<tr><td>Separation of Sister Chromatids                                                 </td><td>188</td><td>1.323523e-02</td></tr>\n",
       "\t<tr><td>mRNA Splicing                                                                   </td><td>186</td><td>4.629510e-03</td></tr>\n",
       "\t<tr><td>mRNA Splicing - Major Pathway                                                   </td><td>178</td><td>4.520367e-03</td></tr>\n",
       "\t<tr><td>Apoptosis                                                                       </td><td>176</td><td>4.395436e-03</td></tr>\n",
       "\t<tr><td>Regulation of expression of SLITs and ROBOs                                     </td><td>171</td><td>5.886348e-04</td></tr>\n",
       "\t<tr><td>G2/M Checkpoints                                                                </td><td>167</td><td>3.352195e-02</td></tr>\n",
       "\t<tr><td>CDC42 GTPase cycle                                                              </td><td>155</td><td>3.789526e-03</td></tr>\n",
       "\t<tr><td>Signaling by Hedgehog                                                           </td><td>149</td><td>6.811108e-04</td></tr>\n",
       "\t<tr><td>Interleukin-1 family signaling                                                  </td><td>139</td><td>1.248242e-03</td></tr>\n",
       "\t<tr><td>PTEN Regulation                                                                 </td><td>138</td><td>2.654538e-04</td></tr>\n",
       "\t<tr><td>C-type lectin receptors (CLRs)                                                  </td><td>136</td><td>1.850502e-02</td></tr>\n",
       "\t<tr><td>Response to elevated platelet cytosolic Ca2+                                    </td><td>130</td><td>1.282571e-02</td></tr>\n",
       "\t<tr><td>Formation of the cornified envelope                                             </td><td>128</td><td>2.965338e-02</td></tr>\n",
       "\t<tr><td>Platelet degranulation                                                          </td><td>125</td><td>3.790477e-02</td></tr>\n",
       "\t<tr><td>Host Interactions of HIV factors                                                </td><td>125</td><td>1.075138e-02</td></tr>\n",
       "\t<tr><td>Synthesis of DNA                                                                </td><td>121</td><td>2.262320e-03</td></tr>\n",
       "\t<tr><td>TCR signaling                                                                   </td><td>120</td><td>1.860485e-03</td></tr>\n",
       "\t<tr><td>Eukaryotic Translation Initiation                                               </td><td>120</td><td>1.577118e-02</td></tr>\n",
       "\t<tr><td>Cap-dependent Translation Initiation                                            </td><td>120</td><td>1.577118e-02</td></tr>\n",
       "\t<tr><td>Transcriptional regulation by RUNX2                                             </td><td>118</td><td>1.352146e-03</td></tr>\n",
       "</tbody>\n",
       "</table>\n"
      ],
      "text/latex": [
       "A data.table: 39 × 3\n",
       "\\begin{tabular}{lll}\n",
       " term\\_name & term\\_size & adjusted\\_p\\_val\\\\\n",
       " <chr> & <int> & <dbl>\\\\\n",
       "\\hline\n",
       "\t Neutrophil degranulation                                                         & 476 & 3.478296e-07\\\\\n",
       "\t Signaling by Interleukins                                                        & 460 & 2.860247e-03\\\\\n",
       "\t RHO GTPase cycle                                                                 & 449 & 1.072582e-02\\\\\n",
       "\t Diseases of signal transduction by growth factor receptors and second messengers & 417 & 2.152734e-05\\\\\n",
       "\t MAPK family signaling cascades                                                   & 308 & 2.208930e-04\\\\\n",
       "\t Translation                                                                      & 292 & 3.629831e-04\\\\\n",
       "\t Intracellular signaling by second messengers                                     & 292 & 1.399071e-04\\\\\n",
       "\t Cell Cycle Checkpoints                                                           & 289 & 1.423710e-02\\\\\n",
       "\t MAPK1/MAPK3 signaling                                                            & 269 & 1.714901e-04\\\\\n",
       "\t RAF/MAP kinase cascade                                                           & 264 & 1.020225e-04\\\\\n",
       "\t Platelet activation, signaling and aggregation                                   & 258 & 2.723783e-05\\\\\n",
       "\t PIP3 activates AKT signaling                                                     & 252 & 5.227354e-04\\\\\n",
       "\t Processing of Capped Intron-Containing Pre-mRNA                                  & 237 & 4.769296e-02\\\\\n",
       "\t HIV Infection                                                                    & 224 & 1.608223e-03\\\\\n",
       "\t Signaling by ROBO receptors                                                      & 217 & 3.614487e-05\\\\\n",
       "\t Programmed Cell Death                                                            & 205 & 2.177689e-02\\\\\n",
       "\t Mitotic G2-G2/M phases                                                           & 198 & 3.774159e-02\\\\\n",
       "\t G2/M Transition                                                                  & 196 & 3.237419e-02\\\\\n",
       "\t Cellular response to chemical stress                                             & 191 & 5.913011e-05\\\\\n",
       "\t Separation of Sister Chromatids                                                  & 188 & 1.323523e-02\\\\\n",
       "\t mRNA Splicing                                                                    & 186 & 4.629510e-03\\\\\n",
       "\t mRNA Splicing - Major Pathway                                                    & 178 & 4.520367e-03\\\\\n",
       "\t Apoptosis                                                                        & 176 & 4.395436e-03\\\\\n",
       "\t Regulation of expression of SLITs and ROBOs                                      & 171 & 5.886348e-04\\\\\n",
       "\t G2/M Checkpoints                                                                 & 167 & 3.352195e-02\\\\\n",
       "\t CDC42 GTPase cycle                                                               & 155 & 3.789526e-03\\\\\n",
       "\t Signaling by Hedgehog                                                            & 149 & 6.811108e-04\\\\\n",
       "\t Interleukin-1 family signaling                                                   & 139 & 1.248242e-03\\\\\n",
       "\t PTEN Regulation                                                                  & 138 & 2.654538e-04\\\\\n",
       "\t C-type lectin receptors (CLRs)                                                   & 136 & 1.850502e-02\\\\\n",
       "\t Response to elevated platelet cytosolic Ca2+                                     & 130 & 1.282571e-02\\\\\n",
       "\t Formation of the cornified envelope                                              & 128 & 2.965338e-02\\\\\n",
       "\t Platelet degranulation                                                           & 125 & 3.790477e-02\\\\\n",
       "\t Host Interactions of HIV factors                                                 & 125 & 1.075138e-02\\\\\n",
       "\t Synthesis of DNA                                                                 & 121 & 2.262320e-03\\\\\n",
       "\t TCR signaling                                                                    & 120 & 1.860485e-03\\\\\n",
       "\t Eukaryotic Translation Initiation                                                & 120 & 1.577118e-02\\\\\n",
       "\t Cap-dependent Translation Initiation                                             & 120 & 1.577118e-02\\\\\n",
       "\t Transcriptional regulation by RUNX2                                              & 118 & 1.352146e-03\\\\\n",
       "\\end{tabular}\n"
      ],
      "text/markdown": [
       "\n",
       "A data.table: 39 × 3\n",
       "\n",
       "| term_name &lt;chr&gt; | term_size &lt;int&gt; | adjusted_p_val &lt;dbl&gt; |\n",
       "|---|---|---|\n",
       "| Neutrophil degranulation                                                         | 476 | 3.478296e-07 |\n",
       "| Signaling by Interleukins                                                        | 460 | 2.860247e-03 |\n",
       "| RHO GTPase cycle                                                                 | 449 | 1.072582e-02 |\n",
       "| Diseases of signal transduction by growth factor receptors and second messengers | 417 | 2.152734e-05 |\n",
       "| MAPK family signaling cascades                                                   | 308 | 2.208930e-04 |\n",
       "| Translation                                                                      | 292 | 3.629831e-04 |\n",
       "| Intracellular signaling by second messengers                                     | 292 | 1.399071e-04 |\n",
       "| Cell Cycle Checkpoints                                                           | 289 | 1.423710e-02 |\n",
       "| MAPK1/MAPK3 signaling                                                            | 269 | 1.714901e-04 |\n",
       "| RAF/MAP kinase cascade                                                           | 264 | 1.020225e-04 |\n",
       "| Platelet activation, signaling and aggregation                                   | 258 | 2.723783e-05 |\n",
       "| PIP3 activates AKT signaling                                                     | 252 | 5.227354e-04 |\n",
       "| Processing of Capped Intron-Containing Pre-mRNA                                  | 237 | 4.769296e-02 |\n",
       "| HIV Infection                                                                    | 224 | 1.608223e-03 |\n",
       "| Signaling by ROBO receptors                                                      | 217 | 3.614487e-05 |\n",
       "| Programmed Cell Death                                                            | 205 | 2.177689e-02 |\n",
       "| Mitotic G2-G2/M phases                                                           | 198 | 3.774159e-02 |\n",
       "| G2/M Transition                                                                  | 196 | 3.237419e-02 |\n",
       "| Cellular response to chemical stress                                             | 191 | 5.913011e-05 |\n",
       "| Separation of Sister Chromatids                                                  | 188 | 1.323523e-02 |\n",
       "| mRNA Splicing                                                                    | 186 | 4.629510e-03 |\n",
       "| mRNA Splicing - Major Pathway                                                    | 178 | 4.520367e-03 |\n",
       "| Apoptosis                                                                        | 176 | 4.395436e-03 |\n",
       "| Regulation of expression of SLITs and ROBOs                                      | 171 | 5.886348e-04 |\n",
       "| G2/M Checkpoints                                                                 | 167 | 3.352195e-02 |\n",
       "| CDC42 GTPase cycle                                                               | 155 | 3.789526e-03 |\n",
       "| Signaling by Hedgehog                                                            | 149 | 6.811108e-04 |\n",
       "| Interleukin-1 family signaling                                                   | 139 | 1.248242e-03 |\n",
       "| PTEN Regulation                                                                  | 138 | 2.654538e-04 |\n",
       "| C-type lectin receptors (CLRs)                                                   | 136 | 1.850502e-02 |\n",
       "| Response to elevated platelet cytosolic Ca2+                                     | 130 | 1.282571e-02 |\n",
       "| Formation of the cornified envelope                                              | 128 | 2.965338e-02 |\n",
       "| Platelet degranulation                                                           | 125 | 3.790477e-02 |\n",
       "| Host Interactions of HIV factors                                                 | 125 | 1.075138e-02 |\n",
       "| Synthesis of DNA                                                                 | 121 | 2.262320e-03 |\n",
       "| TCR signaling                                                                    | 120 | 1.860485e-03 |\n",
       "| Eukaryotic Translation Initiation                                                | 120 | 1.577118e-02 |\n",
       "| Cap-dependent Translation Initiation                                             | 120 | 1.577118e-02 |\n",
       "| Transcriptional regulation by RUNX2                                              | 118 | 1.352146e-03 |\n",
       "\n"
      ],
      "text/plain": [
       "   term_name                                                                       \n",
       "1  Neutrophil degranulation                                                        \n",
       "2  Signaling by Interleukins                                                       \n",
       "3  RHO GTPase cycle                                                                \n",
       "4  Diseases of signal transduction by growth factor receptors and second messengers\n",
       "5  MAPK family signaling cascades                                                  \n",
       "6  Translation                                                                     \n",
       "7  Intracellular signaling by second messengers                                    \n",
       "8  Cell Cycle Checkpoints                                                          \n",
       "9  MAPK1/MAPK3 signaling                                                           \n",
       "10 RAF/MAP kinase cascade                                                          \n",
       "11 Platelet activation, signaling and aggregation                                  \n",
       "12 PIP3 activates AKT signaling                                                    \n",
       "13 Processing of Capped Intron-Containing Pre-mRNA                                 \n",
       "14 HIV Infection                                                                   \n",
       "15 Signaling by ROBO receptors                                                     \n",
       "16 Programmed Cell Death                                                           \n",
       "17 Mitotic G2-G2/M phases                                                          \n",
       "18 G2/M Transition                                                                 \n",
       "19 Cellular response to chemical stress                                            \n",
       "20 Separation of Sister Chromatids                                                 \n",
       "21 mRNA Splicing                                                                   \n",
       "22 mRNA Splicing - Major Pathway                                                   \n",
       "23 Apoptosis                                                                       \n",
       "24 Regulation of expression of SLITs and ROBOs                                     \n",
       "25 G2/M Checkpoints                                                                \n",
       "26 CDC42 GTPase cycle                                                              \n",
       "27 Signaling by Hedgehog                                                           \n",
       "28 Interleukin-1 family signaling                                                  \n",
       "29 PTEN Regulation                                                                 \n",
       "30 C-type lectin receptors (CLRs)                                                  \n",
       "31 Response to elevated platelet cytosolic Ca2+                                    \n",
       "32 Formation of the cornified envelope                                             \n",
       "33 Platelet degranulation                                                          \n",
       "34 Host Interactions of HIV factors                                                \n",
       "35 Synthesis of DNA                                                                \n",
       "36 TCR signaling                                                                   \n",
       "37 Eukaryotic Translation Initiation                                               \n",
       "38 Cap-dependent Translation Initiation                                            \n",
       "39 Transcriptional regulation by RUNX2                                             \n",
       "   term_size adjusted_p_val\n",
       "1  476       3.478296e-07  \n",
       "2  460       2.860247e-03  \n",
       "3  449       1.072582e-02  \n",
       "4  417       2.152734e-05  \n",
       "5  308       2.208930e-04  \n",
       "6  292       3.629831e-04  \n",
       "7  292       1.399071e-04  \n",
       "8  289       1.423710e-02  \n",
       "9  269       1.714901e-04  \n",
       "10 264       1.020225e-04  \n",
       "11 258       2.723783e-05  \n",
       "12 252       5.227354e-04  \n",
       "13 237       4.769296e-02  \n",
       "14 224       1.608223e-03  \n",
       "15 217       3.614487e-05  \n",
       "16 205       2.177689e-02  \n",
       "17 198       3.774159e-02  \n",
       "18 196       3.237419e-02  \n",
       "19 191       5.913011e-05  \n",
       "20 188       1.323523e-02  \n",
       "21 186       4.629510e-03  \n",
       "22 178       4.520367e-03  \n",
       "23 176       4.395436e-03  \n",
       "24 171       5.886348e-04  \n",
       "25 167       3.352195e-02  \n",
       "26 155       3.789526e-03  \n",
       "27 149       6.811108e-04  \n",
       "28 139       1.248242e-03  \n",
       "29 138       2.654538e-04  \n",
       "30 136       1.850502e-02  \n",
       "31 130       1.282571e-02  \n",
       "32 128       2.965338e-02  \n",
       "33 125       3.790477e-02  \n",
       "34 125       1.075138e-02  \n",
       "35 121       2.262320e-03  \n",
       "36 120       1.860485e-03  \n",
       "37 120       1.577118e-02  \n",
       "38 120       1.577118e-02  \n",
       "39 118       1.352146e-03  "
      ]
     },
     "metadata": {},
     "output_type": "display_data"
    }
   ],
   "source": [
    "# Keep selected columns\n",
    "enriched_pws |>\n",
    "select(\"term_name\", \"term_size\", \"adjusted_p_val\") |>\n",
    "arrange(desc(term_size))"
   ]
  },
  {
   "cell_type": "markdown",
   "id": "71cb114e-3435-40fe-b1cc-1f364e998ebc",
   "metadata": {},
   "source": [
    "# Step 4\n",
    "Visualize some of the results"
   ]
  },
  {
   "cell_type": "code",
   "execution_count": 30,
   "id": "3bb0aad4-4e32-47ee-a950-e965bd155e0b",
   "metadata": {},
   "outputs": [
    {
     "data": {
      "image/png": "[encoded data removed]",
      "text/plain": [
       "plot without title"
      ]
     },
     "metadata": {
      "image/png": {
       "height": 420,
       "width": 420
      }
     },
     "output_type": "display_data"
    }
   ],
   "source": [
    "enriched_pws |>\n",
    "select(\"term_name\", \"term_size\", \"adjusted_p_val\") |>\n",
    "arrange(desc(term_size)) |>\n",
    "mutate(log10p = -log10(adjusted_p_val)) |>\n",
    "head(10) |>\n",
    "ggplot(aes(x = term_name, y = term_size, fill = log10p)) +\n",
    "geom_bar(position = \"dodge\", stat = \"identity\") +\n",
    "coord_flip() +\n",
    "theme_bw()"
   ]
  },
  {
   "cell_type": "code",
   "execution_count": 31,
   "id": "4cfb482d-aa09-490c-95ff-a6f1fd3b50d5",
   "metadata": {},
   "outputs": [
    {
     "data": {
      "text/plain": [
       "R version 4.4.3 (2025-02-28)\n",
       "Platform: x86_64-conda-linux-gnu\n",
       "Running under: SUSE Linux Enterprise Server 15 SP6\n",
       "\n",
       "Matrix products: default\n",
       "BLAS/LAPACK: /nexus/posix0/MPI-psych/g/dept-binder/mpsmgp/ahsant/software/miniforge3/envs/jupyter/lib/libopenblasp-r0.3.28.so;  LAPACK version 3.12.0\n",
       "\n",
       "locale:\n",
       " [1] LC_CTYPE=en_US.UTF-8       LC_NUMERIC=C              \n",
       " [3] LC_TIME=en_US.UTF-8        LC_COLLATE=en_US.UTF-8    \n",
       " [5] LC_MONETARY=en_US.UTF-8    LC_MESSAGES=en_US.UTF-8   \n",
       " [7] LC_PAPER=en_US.UTF-8       LC_NAME=C                 \n",
       " [9] LC_ADDRESS=C               LC_TELEPHONE=C            \n",
       "[11] LC_MEASUREMENT=en_US.UTF-8 LC_IDENTIFICATION=C       \n",
       "\n",
       "time zone: Europe/Berlin\n",
       "tzcode source: system (glibc)\n",
       "\n",
       "attached base packages:\n",
       "[1] stats     graphics  grDevices utils     datasets  methods   base     \n",
       "\n",
       "other attached packages:\n",
       " [1] lubridate_1.9.4      forcats_1.0.0        stringr_1.5.1       \n",
       " [4] dplyr_1.1.4          purrr_1.1.0          readr_2.1.5         \n",
       " [7] tidyr_1.3.1          tibble_3.3.0         ggplot2_3.5.2       \n",
       "[10] tidyverse_2.0.0      ActivePathways_2.0.6\n",
       "\n",
       "loaded via a namespace (and not attached):\n",
       " [1] gtable_0.3.6       jsonlite_2.0.0     compiler_4.4.3     crayon_1.5.3      \n",
       " [5] tidyselect_1.2.1   IRdisplay_1.1      systemfonts_1.1.0  scales_1.4.0      \n",
       " [9] textshaping_1.0.1  uuid_1.2-1         fastmap_1.2.0      IRkernel_1.3.2    \n",
       "[13] R6_2.6.1           labeling_0.4.3     generics_0.1.4     Cairo_1.6-5       \n",
       "[17] pillar_1.11.0      RColorBrewer_1.1-3 tzdb_0.4.0         rlang_1.1.6       \n",
       "[21] stringi_1.8.7      repr_1.1.7         timechange_0.3.0   cli_3.6.5         \n",
       "[25] withr_3.0.2        magrittr_2.0.3     digest_0.6.37      grid_4.4.3        \n",
       "[29] base64enc_0.1-3    hms_1.1.3          pbdZMQ_0.3-13      lifecycle_1.0.4   \n",
       "[33] vctrs_0.6.5        evaluate_1.0.4     glue_1.8.0         data.table_1.16.4 \n",
       "[37] farver_2.1.2       ragg_1.3.3         tools_4.4.3        pkgconfig_2.0.3   \n",
       "[41] htmltools_0.5.8.1 "
      ]
     },
     "metadata": {},
     "output_type": "display_data"
    }
   ],
   "source": [
    "sessionInfo()"
   ]
  }
 ],
 "metadata": {
  "kernelspec": {
   "display_name": "R",
   "language": "R",
   "name": "ir"
  },
  "language_info": {
   "codemirror_mode": "r",
   "file_extension": ".r",
   "mimetype": "text/x-r-source",
   "name": "R",
   "pygments_lexer": "r",
   "version": "4.4.3"
  }
 },
 "nbformat": 4,
 "nbformat_minor": 5
}
