{
 "cells": [
  {
   "cell_type": "markdown",
   "id": "9fe7076b-3882-412a-a34f-33c7cbd65373",
   "metadata": {},
   "source": [
    "- **Purpose:** Dimensionality reduction and clustering of the previously preprocessed scATAC-seq dataset\n",
    "- **Date:** September 15, 2025"
   ]
  },
  {
   "cell_type": "markdown",
   "id": "a80a5845-a218-497e-8821-3641c066f02a",
   "metadata": {},
   "source": [
    "# Step 1\n",
    "Load libraries and read the data"
   ]
  },
  {
   "cell_type": "code",
   "execution_count": 1,
   "id": "cd882453-dd7c-419c-be01-5820ff650e7f",
   "metadata": {},
   "outputs": [
    {
     "name": "stderr",
     "output_type": "stream",
     "text": [
      "\n",
      "                                                   / |\n",
      "                                                 /    \\\n",
      "            .                                  /      |.\n",
      "            \\\\\\                              /        |.\n",
      "              \\\\\\                          /           `|.\n",
      "                \\\\\\                      /              |.\n",
      "                  \\                    /                |\\\n",
      "                  \\\\#####\\           /                  ||\n",
      "                ==###########>      /                   ||\n",
      "                 \\\\##==......\\    /                     ||\n",
      "            ______ =       =|__ /__                     ||      \\\\\\\n",
      "        ,--' ,----`-,__ ___/'  --,-`-===================##========>\n",
      "       \\               '        ##_______ _____ ,--,__,=##,__   ///\n",
      "        ,    __==    ___,-,__,--'#'  ==='      `-'    | ##,-/\n",
      "        -,____,---'       \\\\####\\\\________________,--\\\\_##,/\n",
      "           ___      .______        ______  __    __  .______      \n",
      "          /   \\     |   _  \\      /      ||  |  |  | |   _  \\     \n",
      "         /  ^  \\    |  |_)  |    |  ,----'|  |__|  | |  |_)  |    \n",
      "        /  /_\\  \\   |      /     |  |     |   __   | |      /     \n",
      "       /  _____  \\  |  |\\  \\\\___ |  `----.|  |  |  | |  |\\  \\\\___.\n",
      "      /__/     \\__\\ | _| `._____| \\______||__|  |__| | _| `._____|\n",
      "    \n",
      "\n",
      "ArchR : Version 1.0.2\n",
      "For more information see our website : www.ArchRProject.com\n",
      "If you encounter a bug please report : https://github.com/GreenleafLab/ArchR/issues\n",
      "\n",
      "Loading Required Packages...\n",
      "\n",
      "\tLoading Package : grid v4.4.3\n",
      "\n",
      "\tLoading Package : gridExtra v2.3\n",
      "\n",
      "\tLoading Package : gtools v3.9.5\n",
      "\n",
      "\tLoading Package : gtable v0.3.6\n",
      "\n",
      "\tLoading Package : ggplot2 v3.5.2\n",
      "\n",
      "\tLoading Package : magrittr v2.0.3\n",
      "\n",
      "\tLoading Package : plyr v1.8.9\n",
      "\n",
      "\tLoading Package : stringr v1.5.1\n",
      "\n",
      "\tLoading Package : data.table v1.16.4\n",
      "\n",
      "\tLoading Package : matrixStats v1.5.0\n",
      "\n",
      "\tLoading Package : S4Vectors v0.44.0\n",
      "\n",
      "\tLoading Package : GenomicRanges v1.58.0\n",
      "\n",
      "\tLoading Package : BiocGenerics v0.52.0\n",
      "\n",
      "\tLoading Package : Matrix v1.7.1\n",
      "\n",
      "\tLoading Package : Rcpp v1.1.0\n",
      "\n",
      "\tLoading Package : SummarizedExperiment v1.36.0\n",
      "\n",
      "\tLoading Package : rhdf5 v2.50.1\n",
      "\n",
      "── \u001b[1mAttaching core tidyverse packages\u001b[22m ───────────────────────────────────────────────────────────────────────────── tidyverse 2.0.0 ──\n",
      "\u001b[32m✔\u001b[39m \u001b[34mdplyr    \u001b[39m 1.1.4     \u001b[32m✔\u001b[39m \u001b[34mreadr    \u001b[39m 2.1.5\n",
      "\u001b[32m✔\u001b[39m \u001b[34mforcats  \u001b[39m 1.0.0     \u001b[32m✔\u001b[39m \u001b[34mtibble   \u001b[39m 3.3.0\n",
      "\u001b[32m✔\u001b[39m \u001b[34mlubridate\u001b[39m 1.9.4     \u001b[32m✔\u001b[39m \u001b[34mtidyr    \u001b[39m 1.3.1\n",
      "\u001b[32m✔\u001b[39m \u001b[34mpurrr    \u001b[39m 1.1.0     \n",
      "── \u001b[1mConflicts\u001b[22m ─────────────────────────────────────────────────────────────────────────────────────────────── tidyverse_conflicts() ──\n",
      "\u001b[31m✖\u001b[39m \u001b[34mlubridate\u001b[39m::\u001b[32m%within%()\u001b[39m     masks \u001b[34mIRanges\u001b[39m::%within%()\n",
      "\u001b[31m✖\u001b[39m \u001b[34mdplyr\u001b[39m::\u001b[32marrange()\u001b[39m          masks \u001b[34mplyr\u001b[39m::arrange()\n",
      "\u001b[31m✖\u001b[39m \u001b[34mdplyr\u001b[39m::\u001b[32mbetween()\u001b[39m          masks \u001b[34mdata.table\u001b[39m::between()\n",
      "\u001b[31m✖\u001b[39m \u001b[34mdplyr\u001b[39m::\u001b[32mcollapse()\u001b[39m         masks \u001b[34mIRanges\u001b[39m::collapse()\n",
      "\u001b[31m✖\u001b[39m \u001b[34mdplyr\u001b[39m::\u001b[32mcombine()\u001b[39m          masks \u001b[34mBiobase\u001b[39m::combine(), \u001b[34mBiocGenerics\u001b[39m::combine(), \u001b[34mgridExtra\u001b[39m::combine()\n",
      "\u001b[31m✖\u001b[39m \u001b[34mpurrr\u001b[39m::\u001b[32mcompact()\u001b[39m          masks \u001b[34mplyr\u001b[39m::compact()\n",
      "\u001b[31m✖\u001b[39m \u001b[34mdplyr\u001b[39m::\u001b[32mcount()\u001b[39m            masks \u001b[34mmatrixStats\u001b[39m::count(), \u001b[34mplyr\u001b[39m::count()\n",
      "\u001b[31m✖\u001b[39m \u001b[34mdplyr\u001b[39m::\u001b[32mdesc()\u001b[39m             masks \u001b[34mIRanges\u001b[39m::desc(), \u001b[34mplyr\u001b[39m::desc()\n",
      "\u001b[31m✖\u001b[39m \u001b[34mtidyr\u001b[39m::\u001b[32mexpand()\u001b[39m           masks \u001b[34mMatrix\u001b[39m::expand(), \u001b[34mS4Vectors\u001b[39m::expand()\n",
      "\u001b[31m✖\u001b[39m \u001b[34mtidyr\u001b[39m::\u001b[32mextract()\u001b[39m          masks \u001b[34mmagrittr\u001b[39m::extract()\n",
      "\u001b[31m✖\u001b[39m \u001b[34mdplyr\u001b[39m::\u001b[32mfailwith()\u001b[39m         masks \u001b[34mplyr\u001b[39m::failwith()\n",
      "\u001b[31m✖\u001b[39m \u001b[34mdplyr\u001b[39m::\u001b[32mfilter()\u001b[39m           masks \u001b[34mstats\u001b[39m::filter()\n",
      "\u001b[31m✖\u001b[39m \u001b[34mdplyr\u001b[39m::\u001b[32mfirst()\u001b[39m            masks \u001b[34mS4Vectors\u001b[39m::first(), \u001b[34mdata.table\u001b[39m::first()\n",
      "\u001b[31m✖\u001b[39m \u001b[34mlubridate\u001b[39m::\u001b[32mhour()\u001b[39m         masks \u001b[34mdata.table\u001b[39m::hour()\n",
      "\u001b[31m✖\u001b[39m \u001b[34mdplyr\u001b[39m::\u001b[32mid()\u001b[39m               masks \u001b[34mplyr\u001b[39m::id()\n",
      "\u001b[31m✖\u001b[39m \u001b[34mlubridate\u001b[39m::\u001b[32misoweek()\u001b[39m      masks \u001b[34mdata.table\u001b[39m::isoweek()\n",
      "\u001b[31m✖\u001b[39m \u001b[34mdplyr\u001b[39m::\u001b[32mlag()\u001b[39m              masks \u001b[34mstats\u001b[39m::lag()\n",
      "\u001b[31m✖\u001b[39m \u001b[34mdplyr\u001b[39m::\u001b[32mlast()\u001b[39m             masks \u001b[34mdata.table\u001b[39m::last()\n",
      "\u001b[31m✖\u001b[39m \u001b[34mlubridate\u001b[39m::\u001b[32mmday()\u001b[39m         masks \u001b[34mdata.table\u001b[39m::mday()\n",
      "\u001b[31m✖\u001b[39m \u001b[34mlubridate\u001b[39m::\u001b[32mminute()\u001b[39m       masks \u001b[34mdata.table\u001b[39m::minute()\n",
      "\u001b[31m✖\u001b[39m \u001b[34mlubridate\u001b[39m::\u001b[32mmonth()\u001b[39m        masks \u001b[34mdata.table\u001b[39m::month()\n",
      "\u001b[31m✖\u001b[39m \u001b[34mdplyr\u001b[39m::\u001b[32mmutate()\u001b[39m           masks \u001b[34mplyr\u001b[39m::mutate()\n",
      "\u001b[31m✖\u001b[39m \u001b[34mtidyr\u001b[39m::\u001b[32mpack()\u001b[39m             masks \u001b[34mMatrix\u001b[39m::pack()\n",
      "\u001b[31m✖\u001b[39m \u001b[34mBiocGenerics\u001b[39m::\u001b[32mPosition()\u001b[39m  masks \u001b[34mggplot2\u001b[39m::Position(), \u001b[34mbase\u001b[39m::Position()\n",
      "\u001b[31m✖\u001b[39m \u001b[34mlubridate\u001b[39m::\u001b[32mquarter()\u001b[39m      masks \u001b[34mdata.table\u001b[39m::quarter()\n",
      "\u001b[31m✖\u001b[39m \u001b[34mpurrr\u001b[39m::\u001b[32mreduce()\u001b[39m           masks \u001b[34mGenomicRanges\u001b[39m::reduce(), \u001b[34mIRanges\u001b[39m::reduce()\n",
      "\u001b[31m✖\u001b[39m \u001b[34mdplyr\u001b[39m::\u001b[32mrename()\u001b[39m           masks \u001b[34mS4Vectors\u001b[39m::rename(), \u001b[34mplyr\u001b[39m::rename()\n",
      "\u001b[31m✖\u001b[39m \u001b[34mlubridate\u001b[39m::\u001b[32msecond()\u001b[39m       masks \u001b[34mS4Vectors\u001b[39m::second(), \u001b[34mdata.table\u001b[39m::second()\n",
      "\u001b[31m✖\u001b[39m \u001b[34mlubridate\u001b[39m::\u001b[32msecond<-()\u001b[39m     masks \u001b[34mS4Vectors\u001b[39m::second<-()\n",
      "\u001b[31m✖\u001b[39m \u001b[34mpurrr\u001b[39m::\u001b[32mset_names()\u001b[39m        masks \u001b[34mmagrittr\u001b[39m::set_names()\n",
      "\u001b[31m✖\u001b[39m \u001b[34mdplyr\u001b[39m::\u001b[32mslice()\u001b[39m            masks \u001b[34mIRanges\u001b[39m::slice()\n",
      "\u001b[31m✖\u001b[39m \u001b[34mGenomicRanges\u001b[39m::\u001b[32msubtract()\u001b[39m masks \u001b[34mmagrittr\u001b[39m::subtract()\n",
      "\u001b[31m✖\u001b[39m \u001b[34mdplyr\u001b[39m::\u001b[32msummarise()\u001b[39m        masks \u001b[34mplyr\u001b[39m::summarise()\n",
      "\u001b[31m✖\u001b[39m \u001b[34mdplyr\u001b[39m::\u001b[32msummarize()\u001b[39m        masks \u001b[34mplyr\u001b[39m::summarize()\n",
      "\u001b[31m✖\u001b[39m \u001b[34mpurrr\u001b[39m::\u001b[32mtranspose()\u001b[39m        masks \u001b[34mdata.table\u001b[39m::transpose()\n",
      "\u001b[31m✖\u001b[39m \u001b[34mtidyr\u001b[39m::\u001b[32munpack()\u001b[39m           masks \u001b[34mMatrix\u001b[39m::unpack()\n",
      "\u001b[31m✖\u001b[39m \u001b[34mlubridate\u001b[39m::\u001b[32mwday()\u001b[39m         masks \u001b[34mdata.table\u001b[39m::wday()\n",
      "\u001b[31m✖\u001b[39m \u001b[34mlubridate\u001b[39m::\u001b[32mweek()\u001b[39m         masks \u001b[34mdata.table\u001b[39m::week()\n",
      "\u001b[31m✖\u001b[39m \u001b[34mlubridate\u001b[39m::\u001b[32myday()\u001b[39m         masks \u001b[34mdata.table\u001b[39m::yday()\n",
      "\u001b[31m✖\u001b[39m \u001b[34mlubridate\u001b[39m::\u001b[32myear()\u001b[39m         masks \u001b[34mdata.table\u001b[39m::year()\n",
      "\u001b[36mℹ\u001b[39m Use the conflicted package (\u001b[3m\u001b[34m<http://conflicted.r-lib.org/>\u001b[39m\u001b[23m) to force all conflicts to become errors\n"
     ]
    }
   ],
   "source": [
    "# Load libraries\n",
    "library(ArchR)\n",
    "library(tidyverse)"
   ]
  },
  {
   "cell_type": "code",
   "execution_count": 2,
   "id": "8f39c31a-acc9-4251-b663-959c54d96b05",
   "metadata": {},
   "outputs": [
    {
     "name": "stderr",
     "output_type": "stream",
     "text": [
      "Setting default number of Parallel threads to 8.\n",
      "\n"
     ]
    }
   ],
   "source": [
    "# Set seed and ArchR threads\n",
    "set.seed(2025)\n",
    "addArchRThreads(threads = 8)"
   ]
  },
  {
   "cell_type": "code",
   "execution_count": 3,
   "id": "f0a54610-b1d3-4514-880a-3b661978eb7d",
   "metadata": {},
   "outputs": [
    {
     "name": "stderr",
     "output_type": "stream",
     "text": [
      "Successfully loaded ArchRProject!\n",
      "\n",
      "\n",
      "                                                   / |\n",
      "                                                 /    \\\n",
      "            .                                  /      |.\n",
      "            \\\\\\                              /        |.\n",
      "              \\\\\\                          /           `|.\n",
      "                \\\\\\                      /              |.\n",
      "                  \\                    /                |\\\n",
      "                  \\\\#####\\           /                  ||\n",
      "                ==###########>      /                   ||\n",
      "                 \\\\##==......\\    /                     ||\n",
      "            ______ =       =|__ /__                     ||      \\\\\\\n",
      "        ,--' ,----`-,__ ___/'  --,-`-===================##========>\n",
      "       \\               '        ##_______ _____ ,--,__,=##,__   ///\n",
      "        ,    __==    ___,-,__,--'#'  ==='      `-'    | ##,-/\n",
      "        -,____,---'       \\\\####\\\\________________,--\\\\_##,/\n",
      "           ___      .______        ______  __    __  .______      \n",
      "          /   \\     |   _  \\      /      ||  |  |  | |   _  \\     \n",
      "         /  ^  \\    |  |_)  |    |  ,----'|  |__|  | |  |_)  |    \n",
      "        /  /_\\  \\   |      /     |  |     |   __   | |      /     \n",
      "       /  _____  \\  |  |\\  \\\\___ |  `----.|  |  |  | |  |\\  \\\\___.\n",
      "      /__/     \\__\\ | _| `._____| \\______||__|  |__| | _| `._____|\n",
      "    \n",
      "\n",
      "\n",
      "           ___      .______        ______  __    __  .______      \n",
      "          /   \\     |   _  \\      /      ||  |  |  | |   _  \\     \n",
      "         /  ^  \\    |  |_)  |    |  ,----'|  |__|  | |  |_)  |    \n",
      "        /  /_\\  \\   |      /     |  |     |   __   | |      /     \n",
      "       /  _____  \\  |  |\\  \\\\___ |  `----.|  |  |  | |  |\\  \\\\___.\n",
      "      /__/     \\__\\ | _| `._____| \\______||__|  |__| | _| `._____|\n",
      "    \n",
      "\n"
     ]
    },
    {
     "data": {
      "text/plain": [
       "class: ArchRProject \n",
       "outputDirectory: /nexus/posix0/MPI-psych/g/dept-binder/mpsmgp/ahsant/tutorials/BloodTuotiral \n",
       "samples(1): pbmc10k\n",
       "sampleColData names(1): ArrowFiles\n",
       "cellColData names(15): Sample TSSEnrichment ... DoubletEnrichment\n",
       "  BlacklistRatio\n",
       "numberOfCells(1): 9252\n",
       "medianTSS(1): 17.444\n",
       "medianFrags(1): 19466"
      ]
     },
     "metadata": {},
     "output_type": "display_data"
    }
   ],
   "source": [
    "# Load the ArchR project\n",
    "archr_proj <- loadArchRProject(\"/nexus/posix0/MPI-psych/g/dept-binder/mpsmgp/ahsant/tutorials/BloodTuotiral\")\n",
    "archr_proj"
   ]
  },
  {
   "cell_type": "markdown",
   "id": "ace301cd-dc42-485c-9375-9daa00b74633",
   "metadata": {},
   "source": [
    "# Step 2\n",
    "Dimensionality reduction"
   ]
  },
  {
   "cell_type": "code",
   "execution_count": 4,
   "id": "04dd8b71-1d00-42c7-a35b-3a5ae90bad94",
   "metadata": {},
   "outputs": [
    {
     "name": "stderr",
     "output_type": "stream",
     "text": [
      "Checking Inputs...\n",
      "\n",
      "ArchR logging to : ArchRLogs/ArchR-addIterativeLSI-546632973aed-Date-2025-09-15_Time-07-13-15.581676.log\n",
      "If there is an issue, please report to github with logFile!\n",
      "\n",
      "2025-09-15 07:13:18.310756 : Computing Total Across All Features, 0.006 mins elapsed.\n",
      "\n",
      "2025-09-15 07:13:23.782612 : Computing Top Features, 0.097 mins elapsed.\n",
      "\n",
      "###########\n",
      "2025-09-15 07:13:24.622741 : Running LSI (1 of 2) on Top Features, 0.111 mins elapsed.\n",
      "###########\n",
      "\n",
      "2025-09-15 07:13:24.640872 : Creating Partial Matrix, 0.111 mins elapsed.\n",
      "\n",
      "2025-09-15 07:13:57.529116 : Computing LSI, 0.659 mins elapsed.\n",
      "\n",
      "2025-09-15 07:15:02.147766 : Identifying Clusters, 1.736 mins elapsed.\n",
      "\n",
      "Warning message:\n",
      "“Data is of class matrix. Coercing to dgCMatrix.”\n",
      "2025-09-15 07:15:17.617281 : Identified 9 Clusters, 1.994 mins elapsed.\n",
      "\n",
      "2025-09-15 07:15:17.645824 : Creating Cluster Matrix on the total Group Features, 1.995 mins elapsed.\n",
      "\n",
      "2025-09-15 07:15:30.849269 : Computing Variable Features, 2.215 mins elapsed.\n",
      "\n",
      "###########\n",
      "2025-09-15 07:15:31.0768 : Running LSI (2 of 2) on Variable Features, 2.219 mins elapsed.\n",
      "###########\n",
      "\n",
      "2025-09-15 07:15:31.101858 : Creating Partial Matrix, 2.219 mins elapsed.\n",
      "\n",
      "2025-09-15 07:15:57.054847 : Computing LSI, 2.651 mins elapsed.\n",
      "\n",
      "2025-09-15 07:16:23.234093 : Finished Running IterativeLSI, 3.088 mins elapsed.\n",
      "\n"
     ]
    }
   ],
   "source": [
    "### Use iterative LSI\n",
    "### Which selects highly variable features across clusters\n",
    "### For 2+ iterations\n",
    "### Based on the clustering efforts on results from iteration 1\n",
    "archr_proj <- addIterativeLSI(\n",
    "    ArchRProj = archr_proj,\n",
    "    useMatrix = \"TileMatrix\",\n",
    "    name = \"IterativeLSI\",\n",
    "    iterations = 2,\n",
    "    clusterParams = list(\n",
    "        resolution = c(0.2, 0.3, 0.4),\n",
    "        n.start = 10 # number of random starts\n",
    "    ),\n",
    "    varFeatures = 25000,\n",
    "    dimsToUse = 1:30,\n",
    "    saveIterations = FALSE,\n",
    "    force = TRUE\n",
    ")"
   ]
  },
  {
   "cell_type": "code",
   "execution_count": 5,
   "id": "0a79bf32-7390-4a55-be3d-9641283d721c",
   "metadata": {},
   "outputs": [
    {
     "data": {
      "text/plain": [
       "List of length 1\n",
       "names(1): IterativeLSI"
      ]
     },
     "metadata": {},
     "output_type": "display_data"
    }
   ],
   "source": [
    "# Look at the reduced dimensions\n",
    "archr_proj@reducedDims"
   ]
  },
  {
   "cell_type": "markdown",
   "id": "d70210c2-6419-4d12-b215-d5d843bb5498",
   "metadata": {},
   "source": [
    "*Only one sample is being used in thie tutorial. So, batch correction was not performed*"
   ]
  },
  {
   "cell_type": "markdown",
   "id": "1becf767-9c28-4638-9d61-52041f6d3c86",
   "metadata": {},
   "source": [
    "# Step 3\n",
    "Clustering"
   ]
  },
  {
   "cell_type": "code",
   "execution_count": 6,
   "id": "4d6818e7-1055-4694-8453-8d123fedf148",
   "metadata": {},
   "outputs": [
    {
     "name": "stderr",
     "output_type": "stream",
     "text": [
      "ArchR logging to : ArchRLogs/ArchR-addClusters-54667bd939bd-Date-2025-09-15_Time-07-16-23.288042.log\n",
      "If there is an issue, please report to github with logFile!\n",
      "\n",
      "2025-09-15 07:16:24.228662 : Running Seurats FindClusters (Stuart et al. Cell 2019), 0.002 mins elapsed.\n",
      "\n",
      "Warning message:\n",
      "“Data is of class matrix. Coercing to dgCMatrix.”\n",
      "Computing nearest neighbor graph\n",
      "\n",
      "Computing SNN\n",
      "\n"
     ]
    },
    {
     "name": "stdout",
     "output_type": "stream",
     "text": [
      "Modularity Optimizer version 1.3.0 by Ludo Waltman and Nees Jan van Eck\n",
      "\n",
      "Number of nodes: 9252\n",
      "Number of edges: 359839\n",
      "\n",
      "Running Louvain algorithm...\n",
      "Maximum modularity in 10 random starts: 0.8874\n",
      "Number of communities: 18\n",
      "Elapsed time: 0 seconds\n"
     ]
    },
    {
     "name": "stderr",
     "output_type": "stream",
     "text": [
      "2025-09-15 07:16:33.319415 : Testing Biased Clusters, 0.153 mins elapsed.\n",
      "\n",
      "2025-09-15 07:16:33.397977 : Identified Biased Clusters (n = 2), set filterBias = TRUE to re-assign these cells: , 0.155 mins elapsed.\n",
      "\n",
      "Biased Clusters : \n",
      "Cluster17 \n",
      "Cluster8 \n",
      "\n",
      "\n",
      "2025-09-15 07:16:33.408607 : Testing Outlier Clusters, 0.155 mins elapsed.\n",
      "\n",
      "2025-09-15 07:16:33.414059 : Assigning Cluster Names to 18 Clusters, 0.155 mins elapsed.\n",
      "\n",
      "2025-09-15 07:16:33.472165 : Finished addClusters, 0.156 mins elapsed.\n",
      "\n"
     ]
    }
   ],
   "source": [
    "# Find clusters\n",
    "archr_proj <- addClusters(\n",
    "    input = archr_proj,\n",
    "    reducedDims = \"IterativeLSI\",\n",
    "    method = \"Seurat\",\n",
    "    name = \"Clusters_r0.8\",\n",
    "    resolution = 0.8\n",
    ")"
   ]
  },
  {
   "cell_type": "code",
   "execution_count": 7,
   "id": "21139da2-d4b8-4a3f-ade0-4822cedf5b44",
   "metadata": {},
   "outputs": [
    {
     "name": "stderr",
     "output_type": "stream",
     "text": [
      "ArchR logging to : ArchRLogs/ArchR-addClusters-546637c1c8ec-Date-2025-09-15_Time-07-16-33.578518.log\n",
      "If there is an issue, please report to github with logFile!\n",
      "\n",
      "Overriding previous entry for Clusters_r0.8\n",
      "\n",
      "2025-09-15 07:16:34.319289 : Running Seurats FindClusters (Stuart et al. Cell 2019), 0.001 mins elapsed.\n",
      "\n",
      "Warning message:\n",
      "“Data is of class matrix. Coercing to dgCMatrix.”\n",
      "Computing nearest neighbor graph\n",
      "\n",
      "Computing SNN\n",
      "\n"
     ]
    },
    {
     "name": "stdout",
     "output_type": "stream",
     "text": [
      "Modularity Optimizer version 1.3.0 by Ludo Waltman and Nees Jan van Eck\n",
      "\n",
      "Number of nodes: 9252\n",
      "Number of edges: 359839\n",
      "\n",
      "Running Louvain algorithm...\n",
      "Maximum modularity in 10 random starts: 0.8874\n",
      "Number of communities: 18\n",
      "Elapsed time: 0 seconds\n"
     ]
    },
    {
     "name": "stderr",
     "output_type": "stream",
     "text": [
      "2025-09-15 07:16:43.139851 : Testing Biased Clusters, 0.148 mins elapsed.\n",
      "\n",
      "2025-09-15 07:16:43.194968 : Assigning Biased Clusters (n = 2) to Neighbors, 0.149 mins elapsed.\n",
      "\n",
      "2025-09-15 07:16:43.30168 : Testing Outlier Clusters, 0.151 mins elapsed.\n",
      "\n",
      "2025-09-15 07:16:43.308871 : Assigning Cluster Names to 16 Clusters, 0.151 mins elapsed.\n",
      "\n",
      "2025-09-15 07:16:43.352199 : Finished addClusters, 0.152 mins elapsed.\n",
      "\n"
     ]
    }
   ],
   "source": [
    "# Find clusters while taking care of the biased clusters\n",
    "archr_proj <- addClusters(\n",
    "    input = archr_proj,\n",
    "    reducedDims = \"IterativeLSI\",\n",
    "    method = \"Seurat\",\n",
    "    name = \"Clusters_r0.8\",\n",
    "    resolution = 0.8,\n",
    "    filterBias = TRUE,\n",
    "    force = TRUE # rewrite the column\n",
    ")"
   ]
  },
  {
   "cell_type": "code",
   "execution_count": 8,
   "id": "f48a611d-abdc-438a-a138-f5e66db81844",
   "metadata": {},
   "outputs": [
    {
     "data": {
      "text/plain": [
       "\n",
       "  C1  C10  C11  C12  C13  C14  C15  C16   C2   C3   C4   C5   C6   C7   C8   C9 \n",
       " 466 1029 1030  613  178  111 2245  273   36  570  205  742  138  131  293 1192 "
      ]
     },
     "metadata": {},
     "output_type": "display_data"
    }
   ],
   "source": [
    "# Clusters at resolution 0.8\n",
    "table(archr_proj$Clusters_r0.8)"
   ]
  },
  {
   "cell_type": "code",
   "execution_count": 9,
   "id": "1c6a8d73-3171-4365-9c22-626c638da415",
   "metadata": {},
   "outputs": [
    {
     "name": "stderr",
     "output_type": "stream",
     "text": [
      "ArchR logging to : ArchRLogs/ArchR-addClusters-546614d8431f-Date-2025-09-15_Time-07-16-43.390922.log\n",
      "If there is an issue, please report to github with logFile!\n",
      "\n",
      "2025-09-15 07:16:44.209363 : Running Seurats FindClusters (Stuart et al. Cell 2019), 0.001 mins elapsed.\n",
      "\n",
      "Warning message:\n",
      "“Data is of class matrix. Coercing to dgCMatrix.”\n",
      "Computing nearest neighbor graph\n",
      "\n",
      "Computing SNN\n",
      "\n"
     ]
    },
    {
     "name": "stdout",
     "output_type": "stream",
     "text": [
      "Modularity Optimizer version 1.3.0 by Ludo Waltman and Nees Jan van Eck\n",
      "\n",
      "Number of nodes: 9252\n",
      "Number of edges: 359839\n",
      "\n",
      "Running Louvain algorithm...\n",
      "Maximum modularity in 10 random starts: 0.9176\n",
      "Number of communities: 14\n",
      "Elapsed time: 0 seconds\n"
     ]
    },
    {
     "name": "stderr",
     "output_type": "stream",
     "text": [
      "2025-09-15 07:16:53.256435 : Testing Biased Clusters, 0.152 mins elapsed.\n",
      "\n",
      "2025-09-15 07:16:53.278373 : Assigning Biased Clusters (n = 1) to Neighbors, 0.152 mins elapsed.\n",
      "\n",
      "2025-09-15 07:16:53.317448 : Testing Outlier Clusters, 0.153 mins elapsed.\n",
      "\n",
      "2025-09-15 07:16:53.324712 : Assigning Cluster Names to 13 Clusters, 0.153 mins elapsed.\n",
      "\n",
      "2025-09-15 07:16:53.360235 : Finished addClusters, 0.154 mins elapsed.\n",
      "\n"
     ]
    }
   ],
   "source": [
    "# Find clusters while taking care of the biased clusters\n",
    "# Using a lower resoltion\n",
    "archr_proj <- addClusters(\n",
    "    input = archr_proj,\n",
    "    reducedDims = \"IterativeLSI\",\n",
    "    method = \"Seurat\",\n",
    "    name = \"Clusters_r0.5\",\n",
    "    resolution = 0.5,\n",
    "    filterBias = TRUE,\n",
    "    force = TRUE # rewrite the column\n",
    ")"
   ]
  },
  {
   "cell_type": "code",
   "execution_count": 10,
   "id": "ba1aa421-ccd1-4400-8e98-1f63aa463987",
   "metadata": {},
   "outputs": [
    {
     "data": {
      "text/plain": [
       "\n",
       "  C1  C10  C11  C12  C13   C2   C3   C4   C5   C6   C7   C8   C9 \n",
       " 466   98  111 2183  273  569  816  134  138 2452 1065  769  178 "
      ]
     },
     "metadata": {},
     "output_type": "display_data"
    }
   ],
   "source": [
    "# Clusters at resolution 0.5\n",
    "table(archr_proj$Clusters_r0.5)"
   ]
  },
  {
   "cell_type": "markdown",
   "id": "10f2780e-451c-4e20-8ea7-4977122ab962",
   "metadata": {},
   "source": [
    "# Step 4\n",
    "Add cell embedding such as UMAP"
   ]
  },
  {
   "cell_type": "code",
   "execution_count": 11,
   "id": "2fc5d358-a8e4-4ac3-af65-ce9f0b797b89",
   "metadata": {},
   "outputs": [
    {
     "name": "stderr",
     "output_type": "stream",
     "text": [
      "07:16:53 UMAP embedding parameters a = 0.7669 b = 1.223\n",
      "\n",
      "07:16:53 Read 9252 rows and found 30 numeric columns\n",
      "\n",
      "07:16:53 Using Annoy for neighbor search, n_neighbors = 40\n",
      "\n",
      "07:16:53 Building Annoy index with metric = cosine, n_trees = 50\n",
      "\n",
      "0%   10   20   30   40   50   60   70   80   90   100%\n",
      "\n",
      "[----|----|----|----|----|----|----|----|----|----|\n",
      "\n",
      "*\n",
      "*\n",
      "*\n",
      "*\n",
      "*\n",
      "*\n",
      "*\n",
      "*\n",
      "*\n",
      "*\n",
      "*\n",
      "*\n",
      "*\n",
      "*\n",
      "*\n",
      "*\n",
      "*\n",
      "*\n",
      "*\n",
      "*\n",
      "*\n",
      "*\n",
      "*\n",
      "*\n",
      "*\n",
      "*\n",
      "*\n",
      "*\n",
      "*\n",
      "*\n",
      "*\n",
      "*\n",
      "*\n",
      "*\n",
      "*\n",
      "*\n",
      "*\n",
      "*\n",
      "*\n",
      "*\n",
      "*\n",
      "*\n",
      "*\n",
      "*\n",
      "*\n",
      "*\n",
      "*\n",
      "*\n",
      "*\n",
      "*\n",
      "|\n",
      "\n",
      "07:16:54 Writing NN index file to temp file /tmp/RtmpCPzyxy/file5466711788f5\n",
      "\n",
      "07:16:54 Searching Annoy index using 6 threads, search_k = 4000\n",
      "\n",
      "07:16:54 Annoy recall = 100%\n",
      "\n",
      "07:16:55 Commencing smooth kNN distance calibration using 6 threads\n",
      " with target n_neighbors = 40\n",
      "\n",
      "07:16:56 Initializing from normalized Laplacian + noise (using RSpectra)\n",
      "\n",
      "07:16:56 Commencing optimization for 500 epochs, with 530924 positive edges\n",
      "\n",
      "07:16:56 Using rng type: pcg\n",
      "\n",
      "07:17:11 Optimization finished\n",
      "\n",
      "07:17:11 Creating temp model dir /tmp/RtmpCPzyxy/dir5466687cb40b\n",
      "\n",
      "07:17:11 Creating dir /tmp/RtmpCPzyxy/dir5466687cb40b\n",
      "\n",
      "07:17:12 Changing to /tmp/RtmpCPzyxy/dir5466687cb40b\n",
      "\n",
      "07:17:12 Creating /nexus/posix0/MPI-psych/g/dept-binder/mpsmgp/ahsant/tutorials/BloodTuotiral/Embeddings/Save-Uwot-UMAP-Params-IterativeLSI-546612916030-Date-2025-09-15_Time-07-17-11.876971.tar\n",
      "\n",
      "Warning message:\n",
      "“invalid uid value replaced by that for user 'nobody'”\n"
     ]
    }
   ],
   "source": [
    "### UMAP embedding is used\n",
    "### It is just for the visualization purposes\n",
    "### That's why, it is called an embedding in this context\n",
    "archr_proj <- addUMAP(ArchRProj = archr_proj,\n",
    "                     force = TRUE, \n",
    "                     verbose = TRUE)"
   ]
  },
  {
   "cell_type": "code",
   "execution_count": 12,
   "id": "ec2815e7-9539-43ac-8e91-5e4105acf849",
   "metadata": {},
   "outputs": [
    {
     "data": {
      "text/plain": [
       "List of length 1\n",
       "names(1): UMAP"
      ]
     },
     "metadata": {},
     "output_type": "display_data"
    }
   ],
   "source": [
    "# Look at the embeddings\n",
    "archr_proj@embeddings"
   ]
  },
  {
   "cell_type": "code",
   "execution_count": 13,
   "id": "b9154309-de7f-4197-b9a1-2402db8a925c",
   "metadata": {},
   "outputs": [
    {
     "name": "stderr",
     "output_type": "stream",
     "text": [
      "ArchR logging to : ArchRLogs/ArchR-plotEmbedding-546662087cac-Date-2025-09-15_Time-07-17-13.144768.log\n",
      "If there is an issue, please report to github with logFile!\n",
      "\n",
      "Getting UMAP Embedding\n",
      "\n",
      "ColorBy = cellColData\n",
      "\n",
      "Plotting Embedding\n",
      "\n",
      "1 \n",
      "\n",
      "\n",
      "ArchR logging successful to : ArchRLogs/ArchR-plotEmbedding-546662087cac-Date-2025-09-15_Time-07-17-13.144768.log\n",
      "\n",
      "ArchR logging to : ArchRLogs/ArchR-plotEmbedding-5466223eafb1-Date-2025-09-15_Time-07-17-14.605778.log\n",
      "If there is an issue, please report to github with logFile!\n",
      "\n",
      "Getting UMAP Embedding\n",
      "\n",
      "ColorBy = cellColData\n",
      "\n",
      "Plotting Embedding\n",
      "\n",
      "1 \n",
      "\n",
      "\n",
      "ArchR logging successful to : ArchRLogs/ArchR-plotEmbedding-5466223eafb1-Date-2025-09-15_Time-07-17-14.605778.log\n",
      "\n"
     ]
    },
    {
     "data": {
      "image/png": "[encoded data removed]",
      "text/plain": [
       "plot without title"
      ]
     },
     "metadata": {
      "image/png": {
       "height": 420,
       "width": 420
      }
     },
     "output_type": "display_data"
    }
   ],
   "source": [
    "# Plot the embeddings\n",
    "p1 <- plotEmbedding(ArchRProj = archr_proj, colorBy = \"cellColData\", name = \"Clusters_r0.5\", embedding = \"UMAP\")\n",
    "p2 <- plotEmbedding(ArchRProj = archr_proj, colorBy = \"cellColData\", name = \"Clusters_r0.8\", embedding = \"UMAP\")\n",
    "ggAlignPlots(p1, p2, type = \"h\")"
   ]
  },
  {
   "cell_type": "markdown",
   "id": "1070e199-1a5c-4a36-b697-c92bc76c0d46",
   "metadata": {},
   "source": [
    "# Step 5\n",
    "Save the ArchR project"
   ]
  },
  {
   "cell_type": "code",
   "execution_count": 14,
   "id": "b790060a-1879-4da5-98e5-fefda999cc48",
   "metadata": {},
   "outputs": [
    {
     "name": "stderr",
     "output_type": "stream",
     "text": [
      "Saving ArchRProject...\n",
      "\n",
      "Loading ArchRProject...\n",
      "\n",
      "Successfully loaded ArchRProject!\n",
      "\n",
      "\n",
      "                                                   / |\n",
      "                                                 /    \\\n",
      "            .                                  /      |.\n",
      "            \\\\\\                              /        |.\n",
      "              \\\\\\                          /           `|.\n",
      "                \\\\\\                      /              |.\n",
      "                  \\                    /                |\\\n",
      "                  \\\\#####\\           /                  ||\n",
      "                ==###########>      /                   ||\n",
      "                 \\\\##==......\\    /                     ||\n",
      "            ______ =       =|__ /__                     ||      \\\\\\\n",
      "        ,--' ,----`-,__ ___/'  --,-`-===================##========>\n",
      "       \\               '        ##_______ _____ ,--,__,=##,__   ///\n",
      "        ,    __==    ___,-,__,--'#'  ==='      `-'    | ##,-/\n",
      "        -,____,---'       \\\\####\\\\________________,--\\\\_##,/\n",
      "           ___      .______        ______  __    __  .______      \n",
      "          /   \\     |   _  \\      /      ||  |  |  | |   _  \\     \n",
      "         /  ^  \\    |  |_)  |    |  ,----'|  |__|  | |  |_)  |    \n",
      "        /  /_\\  \\   |      /     |  |     |   __   | |      /     \n",
      "       /  _____  \\  |  |\\  \\\\___ |  `----.|  |  |  | |  |\\  \\\\___.\n",
      "      /__/     \\__\\ | _| `._____| \\______||__|  |__| | _| `._____|\n",
      "    \n",
      "\n",
      "\n",
      "           ___      .______        ______  __    __  .______      \n",
      "          /   \\     |   _  \\      /      ||  |  |  | |   _  \\     \n",
      "         /  ^  \\    |  |_)  |    |  ,----'|  |__|  | |  |_)  |    \n",
      "        /  /_\\  \\   |      /     |  |     |   __   | |      /     \n",
      "       /  _____  \\  |  |\\  \\\\___ |  `----.|  |  |  | |  |\\  \\\\___.\n",
      "      /__/     \\__\\ | _| `._____| \\______||__|  |__| | _| `._____|\n",
      "    \n",
      "\n"
     ]
    },
    {
     "data": {
      "text/plain": [
       "class: ArchRProject \n",
       "outputDirectory: /nexus/posix0/MPI-psych/g/dept-binder/mpsmgp/ahsant/tutorials/BloodTuotiral \n",
       "samples(1): pbmc10k\n",
       "sampleColData names(1): ArrowFiles\n",
       "cellColData names(17): Sample TSSEnrichment ... Clusters_r0.8\n",
       "  Clusters_r0.5\n",
       "numberOfCells(1): 9252\n",
       "medianTSS(1): 17.444\n",
       "medianFrags(1): 19466"
      ]
     },
     "metadata": {},
     "output_type": "display_data"
    }
   ],
   "source": [
    "saveArchRProject(archr_proj)"
   ]
  },
  {
   "cell_type": "code",
   "execution_count": 15,
   "id": "62a51502-1c68-4837-b5cd-00ed32b9b322",
   "metadata": {},
   "outputs": [
    {
     "data": {
      "text/plain": [
       "R version 4.4.3 (2025-02-28)\n",
       "Platform: x86_64-conda-linux-gnu\n",
       "Running under: SUSE Linux Enterprise Server 15 SP6\n",
       "\n",
       "Matrix products: default\n",
       "BLAS/LAPACK: /nexus/posix0/MPI-psych/g/dept-binder/mpsmgp/ahsant/software/miniforge3/envs/jupyter/lib/libopenblasp-r0.3.28.so;  LAPACK version 3.12.0\n",
       "\n",
       "Random number generation:\n",
       " RNG:     L'Ecuyer-CMRG \n",
       " Normal:  Inversion \n",
       " Sample:  Rejection \n",
       " \n",
       "locale:\n",
       " [1] LC_CTYPE=en_US.UTF-8       LC_NUMERIC=C              \n",
       " [3] LC_TIME=en_US.UTF-8        LC_COLLATE=en_US.UTF-8    \n",
       " [5] LC_MONETARY=en_US.UTF-8    LC_MESSAGES=en_US.UTF-8   \n",
       " [7] LC_PAPER=en_US.UTF-8       LC_NAME=C                 \n",
       " [9] LC_ADDRESS=C               LC_TELEPHONE=C            \n",
       "[11] LC_MEASUREMENT=en_US.UTF-8 LC_IDENTIFICATION=C       \n",
       "\n",
       "time zone: Europe/Berlin\n",
       "tzcode source: system (glibc)\n",
       "\n",
       "attached base packages:\n",
       " [1] parallel  stats4    grid      stats     graphics  grDevices utils    \n",
       " [8] datasets  methods   base     \n",
       "\n",
       "other attached packages:\n",
       " [1] nabor_0.5.0                 future_1.58.0              \n",
       " [3] Seurat_5.3.0                SeuratObject_5.1.0         \n",
       " [5] sp_2.2-0                    lubridate_1.9.4            \n",
       " [7] forcats_1.0.0               dplyr_1.1.4                \n",
       " [9] purrr_1.1.0                 readr_2.1.5                \n",
       "[11] tidyr_1.3.1                 tibble_3.3.0               \n",
       "[13] tidyverse_2.0.0             rhdf5_2.50.1               \n",
       "[15] SummarizedExperiment_1.36.0 Biobase_2.66.0             \n",
       "[17] MatrixGenerics_1.18.0       Rcpp_1.1.0                 \n",
       "[19] Matrix_1.7-1                GenomicRanges_1.58.0       \n",
       "[21] GenomeInfoDb_1.42.1         IRanges_2.40.1             \n",
       "[23] S4Vectors_0.44.0            BiocGenerics_0.52.0        \n",
       "[25] matrixStats_1.5.0           data.table_1.16.4          \n",
       "[27] stringr_1.5.1               plyr_1.8.9                 \n",
       "[29] magrittr_2.0.3              ggplot2_3.5.2              \n",
       "[31] gtable_0.3.6                gtools_3.9.5               \n",
       "[33] gridExtra_2.3               ArchR_1.0.2                \n",
       "\n",
       "loaded via a namespace (and not attached):\n",
       "  [1] RColorBrewer_1.1-3      jsonlite_2.0.0          spatstat.utils_3.1-5   \n",
       "  [4] farver_2.1.2            zlibbioc_1.52.0         ragg_1.3.3             \n",
       "  [7] vctrs_0.6.5             ROCR_1.0-11             Cairo_1.6-5            \n",
       " [10] spatstat.explore_3.4-3  base64enc_0.1-3         htmltools_0.5.8.1      \n",
       " [13] S4Arrays_1.6.0          Rhdf5lib_1.28.0         SparseArray_1.6.0      \n",
       " [16] sctransform_0.4.2       parallelly_1.45.0       KernSmooth_2.23-24     \n",
       " [19] htmlwidgets_1.6.4       ica_1.0-3               plotly_4.11.0          \n",
       " [22] zoo_1.8-14              uuid_1.2-1              igraph_2.1.4           \n",
       " [25] mime_0.13               lifecycle_1.0.4         pkgconfig_2.0.3        \n",
       " [28] R6_2.6.1                fastmap_1.2.0           GenomeInfoDbData_1.2.13\n",
       " [31] fitdistrplus_1.2-4      shiny_1.11.1            digest_0.6.37          \n",
       " [34] patchwork_1.3.1         tensor_1.5.1            RSpectra_0.16-2        \n",
       " [37] irlba_2.3.5.1           textshaping_1.0.1       labeling_0.4.3         \n",
       " [40] progressr_0.15.1        spatstat.sparse_3.1-0   timechange_0.3.0       \n",
       " [43] polyclip_1.10-7         httr_1.4.7              abind_1.4-8            \n",
       " [46] compiler_4.4.3          withr_3.0.2             fastDummies_1.7.5      \n",
       " [49] MASS_7.3-61             DelayedArray_0.32.0     tools_4.4.3            \n",
       " [52] lmtest_0.9-40           httpuv_1.6.16           future.apply_1.20.0    \n",
       " [55] goftest_1.2-3           glue_1.8.0              nlme_3.1-166           \n",
       " [58] rhdf5filters_1.18.0     promises_1.3.3          pbdZMQ_0.3-13          \n",
       " [61] Rtsne_0.17              reshape2_1.4.4          cluster_2.1.8          \n",
       " [64] generics_0.1.4          spatstat.data_3.1-6     tzdb_0.4.0             \n",
       " [67] hms_1.1.3               XVector_0.46.0          spatstat.geom_3.5-0    \n",
       " [70] RcppAnnoy_0.0.22        ggrepel_0.9.6           RANN_2.6.2             \n",
       " [73] pillar_1.11.0           spam_2.11-1             IRdisplay_1.1          \n",
       " [76] RcppHNSW_0.6.0          later_1.4.2             splines_4.4.3          \n",
       " [79] lattice_0.22-6          deldir_2.0-4            survival_3.7-0         \n",
       " [82] tidyselect_1.2.1        miniUI_0.1.2            pbapply_1.7-2          \n",
       " [85] scattermore_1.2         stringi_1.8.7           UCSC.utils_1.2.0       \n",
       " [88] lazyeval_0.2.2          evaluate_1.0.4          codetools_0.2-20       \n",
       " [91] cli_3.6.5               uwot_0.2.3              IRkernel_1.3.2         \n",
       " [94] xtable_1.8-4            reticulate_1.42.0       systemfonts_1.1.0      \n",
       " [97] repr_1.1.7              spatstat.random_3.4-1   globals_0.18.0         \n",
       "[100] png_0.1-8               spatstat.univar_3.1-4   dotCall64_1.2          \n",
       "[103] listenv_0.9.1           viridisLite_0.4.2       scales_1.4.0           \n",
       "[106] ggridges_0.5.6          crayon_1.5.3            rlang_1.1.6            \n",
       "[109] cowplot_1.2.0          "
      ]
     },
     "metadata": {},
     "output_type": "display_data"
    }
   ],
   "source": [
    "sessionInfo()"
   ]
  }
 ],
 "metadata": {
  "kernelspec": {
   "display_name": "R",
   "language": "R",
   "name": "ir"
  },
  "language_info": {
   "codemirror_mode": "r",
   "file_extension": ".r",
   "mimetype": "text/x-r-source",
   "name": "R",
   "pygments_lexer": "r",
   "version": "4.4.3"
  }
 },
 "nbformat": 4,
 "nbformat_minor": 5
}
